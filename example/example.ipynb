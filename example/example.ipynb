{
 "cells": [
  {
   "cell_type": "code",
   "execution_count": 1,
   "id": "471d7725-6298-4f2d-93f4-a092d4b90350",
   "metadata": {
    "tags": []
   },
   "outputs": [
    {
     "name": "stdout",
     "output_type": "stream",
     "text": [
      "Hello World!\n"
     ]
    }
   ],
   "source": [
    "Public Class HelloWorld\n",
    "    Shared Sub Main()\n",
    "        System.Console.WriteLine(\"Hello World!\")\n",
    "    End Sub\n",
    "End Class"
   ]
  }
 ],
 "metadata": {
  "kernelspec": {
   "display_name": "Visual Basic",
   "language": "",
   "name": "jansvbkernel"
  },
  "language_info": {
   "file_extension": ".vb",
   "mimetype": "application/vb",
   "name": "VB.NET"
  }
 },
 "nbformat": 4,
 "nbformat_minor": 5
}
